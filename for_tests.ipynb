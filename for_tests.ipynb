{
 "cells": [
  {
   "cell_type": "code",
   "execution_count": 5,
   "metadata": {},
   "outputs": [
    {
     "name": "stdout",
     "output_type": "stream",
     "text": [
      "[0, 0, 0, 0, 0, 0, 0, 0, 0, 0, 0, 0, 1, 1, 1, 1, 1, 1, 1, 1, 1, 1, 1, 1]\n"
     ]
    }
   ],
   "source": [
    "a=[]\n",
    "a = [0] * 12 + [1] * 12\n",
    "print(a)"
   ]
  },
  {
   "cell_type": "code",
   "execution_count": 17,
   "metadata": {},
   "outputs": [
    {
     "name": "stdout",
     "output_type": "stream",
     "text": [
      "[0, 0, 1, 1, 2, 2, 3, 3, 4, 4, 5, 5, 0, 0, 1, 1, 2, 2, 3, 3, 4, 4, 5, 5]\n"
     ]
    }
   ],
   "source": [
    "a = [item for i in range(6) for item in [i]*2]*2\n",
    "print(a)"
   ]
  },
  {
   "cell_type": "code",
   "execution_count": 25,
   "metadata": {},
   "outputs": [
    {
     "name": "stdout",
     "output_type": "stream",
     "text": [
      "{'Amplitude': [31.06, 3.61, 41.87, 67.57, 30.59, 84.41, 18.42, 13.29, 49.44, 75.86, 78.3, 33.26, 20.72, 32.48, 69.72, 36.06, 9.08, 7.94, 64.17, 18.18, 70.66, 47.41, 33.34, 39.53], 'el_1': [27.93, 2.37, 84.68, 1.43, 50.02, 39.76, 22.9, 45.0, 82.49, 84.63, 43.75, 71.05, 24.8, 22.49, 29.88, 79.05, 34.37, 18.97, 30.55, 19.95, 12.64, 95.6, 15.61, 22.49], 'el_2': [15.26, 52.92, 67.54, 27.0, 73.8, 25.39, 52.13, 11.32, 28.19, 70.06, 44.92, 26.45, 26.6, 39.13, 63.47, 6.6, 90.39, 12.8, 65.63, 62.01, 44.79, 95.02, 36.37, 9.54], 'el_3': [79.79, 99.42, 75.6, 3.23, 90.76, 46.26, 76.0, 63.05, 97.47, 41.04, 14.95, 91.29, 75.04, 16.76, 6.49, 34.7, 74.1, 56.3, 45.34, 60.93, 17.9, 38.12, 10.82, 90.45], 'el_4': [29.14, 93.89, 33.73, 6.4, 3.86, 78.43, 19.07, 48.02, 17.78, 30.61, 15.21, 50.25, 52.51, 76.72, 65.3, 78.77, 53.87, 99.1, 39.19, 62.51, 72.38, 67.42, 90.56, 11.42]}\n"
     ]
    }
   ],
   "source": [
    "import random\n",
    "\n",
    "\n",
    "names = [\"Amplitude\", \"el_1\", \"el_2\", \"el_3\", \"el_4\"]\n",
    "random_lists = [[round(random.uniform(1.0, 100.0),2) for _ in range(24)] for _ in range(len(names))]\n",
    "result = dict(zip(names, random_lists))\n",
    "print(result)"
   ]
  }
 ],
 "metadata": {
  "kernelspec": {
   "display_name": "Python 3",
   "language": "python",
   "name": "python3"
  },
  "language_info": {
   "codemirror_mode": {
    "name": "ipython",
    "version": 3
   },
   "file_extension": ".py",
   "mimetype": "text/x-python",
   "name": "python",
   "nbconvert_exporter": "python",
   "pygments_lexer": "ipython3",
   "version": "3.12.1"
  }
 },
 "nbformat": 4,
 "nbformat_minor": 2
}
